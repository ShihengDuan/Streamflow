{
 "cells": [
  {
   "cell_type": "code",
   "execution_count": 1,
   "metadata": {},
   "outputs": [],
   "source": [
    "import numpy as np\n",
    "from matplotlib import pyplot as plt"
   ]
  },
  {
   "cell_type": "code",
   "execution_count": 2,
   "metadata": {},
   "outputs": [],
   "source": [
    "def load_data(station): ## Station in String\n",
    "    flow = np.load('../usgsflow_'+station+'.npy')\n",
    "    precip = np.load('../NLDAS_precip_'+station+'.npy')\n",
    "    srad = np.load('../NLDAS_srad_'+station+'.npy')\n",
    "    tmax = np.load('../NLDAS_tmax_'+station+'.npy')\n",
    "    y = np.array(flow).reshape(-1, 1)\n",
    "    indx = np.where(y>=0)[0]\n",
    "    # print(precip.shape)\n",
    "    date = np.load('../usgsdate_'+station+'.npy', allow_pickle=True)\n",
    "    x = np.concatenate((precip, srad, tmax), axis=1)\n",
    "    # x = np.concatenate((precip, srad), axis=1)\n",
    "    return x, y\n",
    "\n",
    "def dataset_ld(x,y,W,L):\n",
    "    obs = x.shape[0]\n",
    "    features = x.shape[1]\n",
    "    a = np.zeros([obs-W-L+1, W, features])\n",
    "    b = np.zeros([obs-W-L+1, 1])\n",
    "    for i in range(obs-W-L+1):\n",
    "        a[i,:,:] = x[i:i+W,:]\n",
    "        b[i,:] = y[i+W+L-1,0]    \n",
    "    return a, b\n",
    "def train_test_pre(x, y):\n",
    "    xtrain = x[:10000]; xtest = x[10000:]\n",
    "    ytrain = y[:10000]; ytest = y[10000:]\n",
    "    xscale = StandardScaler().fit(xtrain)\n",
    "    yscale = StandardScaler().fit(ytrain)\n",
    "    Xtrain = xscale.transform(xtrain); Xtest = xscale.transform(xtest)\n",
    "    Ytrain = yscale.transform(ytrain); Ytest = yscale.transform(ytest)\n",
    "    return Xtrain, Xtest, Ytrain, Ytest, xscale, yscale"
   ]
  },
  {
   "cell_type": "code",
   "execution_count": null,
   "metadata": {},
   "outputs": [],
   "source": [
    "## Find mean "
   ]
  }
 ],
 "metadata": {
  "kernelspec": {
   "display_name": "Python 3",
   "language": "python",
   "name": "python3"
  },
  "language_info": {
   "codemirror_mode": {
    "name": "ipython",
    "version": 3
   },
   "file_extension": ".py",
   "mimetype": "text/x-python",
   "name": "python",
   "nbconvert_exporter": "python",
   "pygments_lexer": "ipython3",
   "version": "3.7.3"
  },
  "toc": {
   "base_numbering": 1,
   "nav_menu": {},
   "number_sections": true,
   "sideBar": true,
   "skip_h1_title": false,
   "title_cell": "Table of Contents",
   "title_sidebar": "Contents",
   "toc_cell": false,
   "toc_position": {},
   "toc_section_display": true,
   "toc_window_display": true
  }
 },
 "nbformat": 4,
 "nbformat_minor": 2
}
