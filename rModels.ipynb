{
 "cells": [
  {
   "cell_type": "code",
   "execution_count": 1,
   "metadata": {},
   "outputs": [
    {
     "name": "stderr",
     "output_type": "stream",
     "text": [
      "Using TensorFlow backend.\n"
     ]
    }
   ],
   "source": [
    "from tensorflow import keras\n",
    "import tensorflow as tf\n",
    "import numpy as np\n",
    "from matplotlib import pyplot as plt\n",
    "from scipy.stats import pearsonr\n",
    "from sklearn.preprocessing import MinMaxScaler, StandardScaler\n",
    "from tensorflow.keras.models import Sequential, Model\n",
    "from scipy.stats import pearsonr\n",
    "from keras.backend.tensorflow_backend import set_session\n",
    "from keras import backend as K\n",
    "from keras.backend import slice\n",
    "from sklearn.metrics import mean_absolute_error, mean_squared_error\n",
    "from scipy.stats import pearsonr\n",
    "from sklearn.linear_model import LinearRegression\n",
    "from sklearn.model_selection import train_test_split\n",
    "import time\n",
    "import pickle\n",
    "import os\n",
    "os.environ[\"CUDA_VISIBLE_DEVICES\"]=\"0\""
   ]
  },
  {
   "cell_type": "code",
   "execution_count": 2,
   "metadata": {},
   "outputs": [],
   "source": [
    "def ANN():\n",
    "    model = Sequential()\n",
    "    model.add(keras.layers.Flatten())\n",
    "    model.add(keras.layers.Dense(100,activation='relu'))\n",
    "    model.add(keras.layers.Dropout(0.5))\n",
    "    model.add(keras.layers.Dense(100,activation='relu'))\n",
    "    model.add(keras.layers.Dropout(0.5))\n",
    "    model.add(keras.layers.Dense(1))\n",
    "    return model"
   ]
  },
  {
   "cell_type": "code",
   "execution_count": 3,
   "metadata": {},
   "outputs": [
    {
     "name": "stdout",
     "output_type": "stream",
     "text": [
      "Model: \"sequential\"\n",
      "_________________________________________________________________\n",
      "Layer (type)                 Output Shape              Param #   \n",
      "=================================================================\n",
      "gru (GRU)                    multiple                  200448    \n",
      "_________________________________________________________________\n",
      "dropout (Dropout)            multiple                  0         \n",
      "_________________________________________________________________\n",
      "dense (Dense)                multiple                  25700     \n",
      "_________________________________________________________________\n",
      "dense_1 (Dense)              multiple                  101       \n",
      "=================================================================\n",
      "Total params: 226,249\n",
      "Trainable params: 226,249\n",
      "Non-trainable params: 0\n",
      "_________________________________________________________________\n"
     ]
    }
   ],
   "source": [
    "def GRU_1():\n",
    "    model = Sequential()\n",
    "    model.add(keras.layers.GRU(256, return_sequences=False))\n",
    "    model.add(keras.layers.Dropout(0.4))\n",
    "    model.add(keras.layers.Dense(100,activation='relu'))\n",
    "    # model.add(keras.layers.BatchNormalization())\n",
    "    model.add(keras.layers.Dense(1))\n",
    "    return model\n",
    "model = GRU_1()\n",
    "model.build(input_shape=(None, 365, 3))\n",
    "model.summary()"
   ]
  },
  {
   "cell_type": "code",
   "execution_count": 4,
   "metadata": {},
   "outputs": [
    {
     "name": "stdout",
     "output_type": "stream",
     "text": [
      "Model: \"sequential_1\"\n",
      "_________________________________________________________________\n",
      "Layer (type)                 Output Shape              Param #   \n",
      "=================================================================\n",
      "lstm (LSTM)                  multiple                  553520    \n",
      "_________________________________________________________________\n",
      "dropout_1 (Dropout)          multiple                  0         \n",
      "_________________________________________________________________\n",
      "dense_2 (Dense)              multiple                  37100     \n",
      "_________________________________________________________________\n",
      "dense_3 (Dense)              multiple                  101       \n",
      "=================================================================\n",
      "Total params: 590,721\n",
      "Trainable params: 590,721\n",
      "Non-trainable params: 0\n",
      "_________________________________________________________________\n"
     ]
    }
   ],
   "source": [
    "def LSTM_1(W,L):\n",
    "    model = Sequential()\n",
    "    model.add(keras.layers.LSTM(370, return_sequences=False))\n",
    "    model.add(keras.layers.Dropout(0.5))\n",
    "    model.add(keras.layers.Dense(100))\n",
    "    model.add(keras.layers.Dense(1))\n",
    "    return model\n",
    "model = LSTM_1(365, 0)\n",
    "model.build(input_shape=(None, 365, 3))\n",
    "model.summary()"
   ]
  },
  {
   "cell_type": "code",
   "execution_count": 5,
   "metadata": {},
   "outputs": [
    {
     "name": "stdout",
     "output_type": "stream",
     "text": [
      "WARNING:tensorflow:Large dropout rate: 0.6 (>0.5). In TensorFlow 2.x, dropout() uses dropout rate instead of keep_prob. Please ensure that this is intended.\n",
      "WARNING:tensorflow:Large dropout rate: 0.6 (>0.5). In TensorFlow 2.x, dropout() uses dropout rate instead of keep_prob. Please ensure that this is intended.\n",
      "WARNING:tensorflow:Large dropout rate: 0.6 (>0.5). In TensorFlow 2.x, dropout() uses dropout rate instead of keep_prob. Please ensure that this is intended.\n",
      "WARNING:tensorflow:Large dropout rate: 0.6 (>0.5). In TensorFlow 2.x, dropout() uses dropout rate instead of keep_prob. Please ensure that this is intended.\n",
      "WARNING:tensorflow:Large dropout rate: 0.6 (>0.5). In TensorFlow 2.x, dropout() uses dropout rate instead of keep_prob. Please ensure that this is intended.\n",
      "Model: \"model\"\n",
      "__________________________________________________________________________________________________\n",
      "Layer (type)                    Output Shape         Param #     Connected to                     \n",
      "==================================================================================================\n",
      "input_1 (InputLayer)            [(None, 365, 3)]     0                                            \n",
      "__________________________________________________________________________________________________\n",
      "conv1d (Conv1D)                 (None, 365, 40)      880         input_1[0][0]                    \n",
      "__________________________________________________________________________________________________\n",
      "activation (Activation)         (None, 365, 40)      0           conv1d[0][0]                     \n",
      "__________________________________________________________________________________________________\n",
      "dropout_2 (Dropout)             (None, 365, 40)      0           activation[0][0]                 \n",
      "__________________________________________________________________________________________________\n",
      "conv1d_1 (Conv1D)               (None, 365, 40)      11240       dropout_2[0][0]                  \n",
      "__________________________________________________________________________________________________\n",
      "activation_1 (Activation)       (None, 365, 40)      0           conv1d_1[0][0]                   \n",
      "__________________________________________________________________________________________________\n",
      "dropout_3 (Dropout)             (None, 365, 40)      0           activation_1[0][0]               \n",
      "__________________________________________________________________________________________________\n",
      "conv1d_2 (Conv1D)               (None, 365, 40)      160         input_1[0][0]                    \n",
      "__________________________________________________________________________________________________\n",
      "add (Add)                       (None, 365, 40)      0           dropout_3[0][0]                  \n",
      "                                                                 conv1d_2[0][0]                   \n",
      "__________________________________________________________________________________________________\n",
      "activation_2 (Activation)       (None, 365, 40)      0           add[0][0]                        \n",
      "__________________________________________________________________________________________________\n",
      "conv1d_3 (Conv1D)               (None, 365, 20)      5620        activation_2[0][0]               \n",
      "__________________________________________________________________________________________________\n",
      "activation_3 (Activation)       (None, 365, 20)      0           conv1d_3[0][0]                   \n",
      "__________________________________________________________________________________________________\n",
      "dropout_4 (Dropout)             (None, 365, 20)      0           activation_3[0][0]               \n",
      "__________________________________________________________________________________________________\n",
      "conv1d_4 (Conv1D)               (None, 365, 20)      2820        dropout_4[0][0]                  \n",
      "__________________________________________________________________________________________________\n",
      "activation_4 (Activation)       (None, 365, 20)      0           conv1d_4[0][0]                   \n",
      "__________________________________________________________________________________________________\n",
      "dropout_5 (Dropout)             (None, 365, 20)      0           activation_4[0][0]               \n",
      "__________________________________________________________________________________________________\n",
      "conv1d_5 (Conv1D)               (None, 365, 20)      820         activation_2[0][0]               \n",
      "__________________________________________________________________________________________________\n",
      "add_1 (Add)                     (None, 365, 20)      0           dropout_5[0][0]                  \n",
      "                                                                 conv1d_5[0][0]                   \n",
      "__________________________________________________________________________________________________\n",
      "activation_5 (Activation)       (None, 365, 20)      0           add_1[0][0]                      \n",
      "__________________________________________________________________________________________________\n",
      "conv1d_6 (Conv1D)               (None, 365, 20)      2820        activation_5[0][0]               \n",
      "__________________________________________________________________________________________________\n",
      "activation_6 (Activation)       (None, 365, 20)      0           conv1d_6[0][0]                   \n",
      "__________________________________________________________________________________________________\n",
      "dropout_6 (Dropout)             (None, 365, 20)      0           activation_6[0][0]               \n",
      "__________________________________________________________________________________________________\n",
      "conv1d_7 (Conv1D)               (None, 365, 20)      2820        dropout_6[0][0]                  \n",
      "__________________________________________________________________________________________________\n",
      "activation_7 (Activation)       (None, 365, 20)      0           conv1d_7[0][0]                   \n",
      "__________________________________________________________________________________________________\n",
      "dropout_7 (Dropout)             (None, 365, 20)      0           activation_7[0][0]               \n",
      "__________________________________________________________________________________________________\n",
      "add_2 (Add)                     (None, 365, 20)      0           dropout_7[0][0]                  \n",
      "                                                                 activation_5[0][0]               \n",
      "__________________________________________________________________________________________________\n",
      "activation_8 (Activation)       (None, 365, 20)      0           add_2[0][0]                      \n",
      "__________________________________________________________________________________________________\n",
      "lambda (Lambda)                 (None, 285, 20)      0           activation_8[0][0]               \n",
      "__________________________________________________________________________________________________\n",
      "flatten (Flatten)               (None, 5700)         0           lambda[0][0]                     \n",
      "__________________________________________________________________________________________________\n",
      "dropout_8 (Dropout)             (None, 5700)         0           flatten[0][0]                    \n",
      "__________________________________________________________________________________________________\n",
      "dense_4 (Dense)                 (None, 100)          570100      dropout_8[0][0]                  \n",
      "__________________________________________________________________________________________________\n",
      "dropout_9 (Dropout)             (None, 100)          0           dense_4[0][0]                    \n",
      "__________________________________________________________________________________________________\n",
      "dense_5 (Dense)                 (None, 1)            101         dropout_9[0][0]                  \n",
      "==================================================================================================\n",
      "Total params: 597,381\n",
      "Trainable params: 597,381\n",
      "Non-trainable params: 0\n",
      "__________________________________________________________________________________________________\n"
     ]
    }
   ],
   "source": [
    "def TCNN(W,L):\n",
    "    x_in = keras.layers.Input(shape=(W,3)) # Batch, Length, Dimension\n",
    "    ## Block 1\n",
    "    x_tp = keras.layers.Conv1D(kernel_size=7, filters=40, dilation_rate=1, padding='causal')(x_in)\n",
    "    # x_tp = keras.layers.BatchNormalization()(x_tp)\n",
    "    x_tp = keras.layers.Activation('relu')(x_tp)\n",
    "    x_tp = keras.layers.Dropout(0.6)(x_tp)\n",
    "    x_tp = keras.layers.Conv1D(kernel_size=7, filters=40, dilation_rate=1, padding='causal')(x_tp)\n",
    "    # x_tp = keras.layers.BatchNormalization()(x_tp)\n",
    "    x_tp = keras.layers.Activation('relu')(x_tp)\n",
    "    x_tp = keras.layers.Dropout(0.6)(x_tp)\n",
    "    ## add res for block 1\n",
    "    x_res = keras.layers.Conv1D(kernel_size=1, filters=40, dilation_rate=1, padding='causal')(x_in)\n",
    "    x_tp = keras.layers.Add()([x_tp, x_res])\n",
    "    x_tp = keras.layers.Activation('relu')(x_tp)\n",
    "    ## Block 2\n",
    "    x_block1 = x_tp\n",
    "    x_tp = keras.layers.Conv1D(kernel_size=7, filters=20, dilation_rate=6, padding='causal')(x_tp)\n",
    "    # x_tp = keras.layers.BatchNormalization()(x_tp)\n",
    "    x_tp = keras.layers.Activation('relu')(x_tp)\n",
    "    x_tp = keras.layers.Dropout(0.6)(x_tp)\n",
    "    x_tp = keras.layers.Conv1D(kernel_size=7, filters=20, dilation_rate=6, padding='causal')(x_tp)\n",
    "    # x_tp = keras.layers.BatchNormalization()(x_tp)\n",
    "    x_tp = keras.layers.Activation('relu')(x_tp)\n",
    "    x_tp = keras.layers.Dropout(0.6)(x_tp)\n",
    "    ## add res for block 2\n",
    "    x_res = keras.layers.Conv1D(kernel_size=1, filters=20, dilation_rate=1, padding='causal')(x_block1)\n",
    "    x_tp = keras.layers.Add()([x_tp, x_res])\n",
    "    # x_tp = keras.layers.Add()([x_tp, x_block1])\n",
    "    x_tp = keras.layers.Activation('relu')(x_tp)    \n",
    "    ## Block 3\n",
    "    \n",
    "    x_block2 = x_tp\n",
    "    x_tp = keras.layers.Conv1D(kernel_size=7, filters=20, dilation_rate=12, padding='causal')(x_tp)\n",
    "    # x_tp = keras.layers.BatchNormalization()(x_tp)\n",
    "    x_tp = keras.layers.Activation('relu')(x_tp)\n",
    "    x_tp = keras.layers.Dropout(0.6)(x_tp)\n",
    "    x_tp = keras.layers.Conv1D(kernel_size=7, filters=20, dilation_rate=12, padding='causal')(x_tp)\n",
    "    # x_tp = keras.layers.BatchNormalization()(x_tp)\n",
    "    x_tp = keras.layers.Activation('relu')(x_tp)\n",
    "    x_tp = keras.layers.Dropout(0.6)(x_tp)\n",
    "    ## add res for block 3\n",
    "    # x_res = keras.layers.Conv1D(kernel_size=1, filters=20, dilation_rate=1, padding='causal')(x_block2)\n",
    "    # x_tp = keras.layers.Add()([x_tp, x_res])\n",
    "    x_tp = keras.layers.Add()([x_tp, x_block2])\n",
    "    x_tp = keras.layers.Activation('relu')(x_tp)\n",
    "    \n",
    "    ## SLICE\n",
    "    x_tp = keras.layers.Lambda(lambda x:slice(x,(0,80,0),(-1,-1,-1)))(x_tp) # batch, length, channels \n",
    "    x_tp = keras.layers.Flatten()(x_tp)\n",
    "    x_tp = keras.layers.Dropout(0.5)(x_tp)\n",
    "    x_tp = keras.layers.Dense(100, activation='relu')(x_tp)\n",
    "    x_tp = keras.layers.Dropout(0.5)(x_tp)\n",
    "    x_out = keras.layers.Dense(1)(x_tp)\n",
    "    model = Model(inputs=x_in, outputs=x_out)\n",
    "    return model\n",
    "model = TCNN(365, 0)\n",
    "model.build(input_shape=(None, 365, 3))\n",
    "model.summary()"
   ]
  },
  {
   "cell_type": "code",
   "execution_count": 6,
   "metadata": {},
   "outputs": [
    {
     "name": "stdout",
     "output_type": "stream",
     "text": [
      "Model: \"sequential_2\"\n",
      "_________________________________________________________________\n",
      "Layer (type)                 Output Shape              Param #   \n",
      "=================================================================\n",
      "lstm_1 (LSTM)                multiple                  10800     \n",
      "_________________________________________________________________\n",
      "lstm_2 (LSTM)                multiple                  20200     \n",
      "_________________________________________________________________\n",
      "lstm_3 (LSTM)                multiple                  20200     \n",
      "_________________________________________________________________\n",
      "dropout_10 (Dropout)         multiple                  0         \n",
      "_________________________________________________________________\n",
      "dense_6 (Dense)              multiple                  5100      \n",
      "_________________________________________________________________\n",
      "dense_7 (Dense)              multiple                  101       \n",
      "=================================================================\n",
      "Total params: 56,401\n",
      "Trainable params: 56,401\n",
      "Non-trainable params: 0\n",
      "_________________________________________________________________\n"
     ]
    }
   ],
   "source": [
    "def LSTM_3(W,L):\n",
    "    model = Sequential()\n",
    "    model.add(keras.layers.LSTM(50, return_sequences=True))\n",
    "    model.add(keras.layers.LSTM(50, return_sequences=True))\n",
    "    model.add(keras.layers.LSTM(50, return_sequences=False))\n",
    "    model.add(keras.layers.Dropout(0.5))\n",
    "    model.add(keras.layers.Dense(100))\n",
    "    model.add(keras.layers.Dense(1))\n",
    "    return model\n",
    "model = LSTM_3(365, 0)\n",
    "model.build(input_shape=(None, 365, 3))\n",
    "model.summary()"
   ]
  },
  {
   "cell_type": "markdown",
   "metadata": {},
   "source": [
    "## LOSS"
   ]
  },
  {
   "cell_type": "code",
   "execution_count": 7,
   "metadata": {},
   "outputs": [],
   "source": [
    "def load_data(station): ## Station in String\n",
    "    flow = np.load('../usgsflow_'+station+'.npy')\n",
    "    precip = np.load('../NLDAS_precip_'+station+'.npy')\n",
    "    srad = np.load('../NLDAS_srad_'+station+'.npy')\n",
    "    tmax = np.load('../NLDAS_tmax_'+station+'.npy')\n",
    "    y = np.array(flow).reshape(-1, 1)\n",
    "    indx = np.where(y>=0)[0]\n",
    "    # print(precip.shape)\n",
    "    date = np.load('../usgsdate_'+station+'.npy', allow_pickle=True)\n",
    "    x = np.concatenate((precip, srad, tmax), axis=1)\n",
    "    return x, y\n",
    "def nse(y_pred, y_true):\n",
    "    nse = 1-np.sum((y_pred-y_true)**2)/np.sum((y_true-np.mean(y_true))**2)\n",
    "    return nse\n",
    "def dataset_ld(x,y,W,L):\n",
    "    obs = x.shape[0]\n",
    "    features = x.shape[1]\n",
    "    a = np.zeros([obs-W-L+1, W, features])\n",
    "    b = np.zeros([obs-W-L+1, 1])\n",
    "    for i in range(obs-W-L+1):\n",
    "        a[i,:,:] = x[i:i+W,:]\n",
    "        b[i,:] = y[i+W+L-1,0]    \n",
    "    return a, b\n",
    "def train_test_pre(x, y):\n",
    "    xtrain = x[:10000]; xtest = x[10000:]\n",
    "    ytrain = y[:10000]; ytest = y[10000:]\n",
    "    xscale = StandardScaler().fit(xtrain)\n",
    "    yscale = StandardScaler().fit(ytrain)\n",
    "    Xtrain = xscale.transform(xtrain); Xtest = xscale.transform(xtest)\n",
    "    Ytrain = yscale.transform(ytrain); Ytest = yscale.transform(ytest)\n",
    "    return Xtrain, Xtest, Ytrain, Ytest, xscale, yscale\n",
    "def custom_loss(y_true, y_pred):\n",
    "    s1 = K.sum((y_pred-y_true)**2)/K.sum((y_true-K.mean(y_true))**2)\n",
    "    return s1\n",
    "lr = 0.0005; W=365; L=0;\n",
    "f = open('../../StationArea.pkl','rb')\n",
    "areas = pickle.load(f); f.close()\n",
    "station = '11528700'\n",
    "x, y = load_data(str(station))\n",
    "area = areas[str(station)]\n",
    "## Transform to Runoff\n",
    "y = y*86400*1000/(area*1000*1000)\n",
    "Xtrain, Xtest, Ytrain, Ytest, xscale, yscale = train_test_pre(x, y)\n",
    "X_train, Y_train = dataset_ld(Xtrain, Ytrain, W, L)\n",
    "X_test, Y_test = dataset_ld(Xtest, Ytest, W, L)"
   ]
  },
  {
   "cell_type": "markdown",
   "metadata": {},
   "source": [
    "### LSTM-3"
   ]
  },
  {
   "cell_type": "code",
   "execution_count": 8,
   "metadata": {},
   "outputs": [
    {
     "data": {
      "image/png": "[encoded data removed]",
      "text/plain": [
       "<Figure size 432x288 with 1 Axes>"
      ]
     },
     "metadata": {
      "needs_background": "light"
     },
     "output_type": "display_data"
    }
   ],
   "source": [
    "model = LSTM_3(365,0)\n",
    "adam = keras.optimizers.Adam(lr=lr)\n",
    "model.compile(loss=custom_loss, optimizer=adam)\n",
    "history = model.fit(X_train, Y_train, epochs=150, batch_size=512, \n",
    "                            verbose=0, shuffle=True)\n",
    "loss_LSTM3 = history.history['loss']\n",
    "plt.plot(loss_LSTM3)\n",
    "plt.show()"
   ]
  },
  {
   "cell_type": "markdown",
   "metadata": {},
   "source": [
    "### TCNN"
   ]
  },
  {
   "cell_type": "code",
   "execution_count": 9,
   "metadata": {},
   "outputs": [
    {
     "data": {
      "image/png": "[encoded data removed]",
      "text/plain": [
       "<Figure size 432x288 with 1 Axes>"
      ]
     },
     "metadata": {
      "needs_background": "light"
     },
     "output_type": "display_data"
    }
   ],
   "source": [
    "model = TCNN(365,0)\n",
    "adam = keras.optimizers.Adam(lr=lr)\n",
    "model.compile(loss=custom_loss, optimizer=adam)\n",
    "history = model.fit(X_train, Y_train, epochs=150, batch_size=512, \n",
    "                            verbose=0, shuffle=True)\n",
    "loss_TCNN = history.history['loss']\n",
    "plt.plot(loss_TCNN)\n",
    "plt.show()"
   ]
  },
  {
   "cell_type": "markdown",
   "metadata": {},
   "source": [
    "### LSTM-1"
   ]
  },
  {
   "cell_type": "code",
   "execution_count": 10,
   "metadata": {},
   "outputs": [
    {
     "data": {
      "image/png": "[encoded data removed]",
      "text/plain": [
       "<Figure size 432x288 with 1 Axes>"
      ]
     },
     "metadata": {
      "needs_background": "light"
     },
     "output_type": "display_data"
    }
   ],
   "source": [
    "model = LSTM_1(365,0)\n",
    "adam = keras.optimizers.Adam(lr=lr)\n",
    "model.compile(loss=custom_loss, optimizer=adam)\n",
    "history = model.fit(X_train, Y_train, epochs=150, batch_size=512, \n",
    "                            verbose=0, shuffle=True)\n",
    "loss_LSTM1 = history.history['loss']\n",
    "plt.plot(loss_LSTM1)\n",
    "plt.show()"
   ]
  },
  {
   "cell_type": "markdown",
   "metadata": {},
   "source": [
    "### ANN"
   ]
  },
  {
   "cell_type": "code",
   "execution_count": 11,
   "metadata": {},
   "outputs": [
    {
     "data": {
      "image/png": "[encoded data removed]",
      "text/plain": [
       "<Figure size 432x288 with 1 Axes>"
      ]
     },
     "metadata": {
      "needs_background": "light"
     },
     "output_type": "display_data"
    }
   ],
   "source": [
    "model = ANN()\n",
    "adam = keras.optimizers.Adam(lr=lr)\n",
    "model.compile(loss=custom_loss, optimizer=adam)\n",
    "history = model.fit(X_train, Y_train, epochs=150, batch_size=512, \n",
    "                            verbose=0, shuffle=True)\n",
    "loss_ANN = history.history['loss']\n",
    "plt.plot(loss_ANN)\n",
    "plt.show()"
   ]
  },
  {
   "cell_type": "code",
   "execution_count": 22,
   "metadata": {},
   "outputs": [
    {
     "data": {
      "image/png": "[encoded data removed]",
      "text/plain": [
       "<Figure size 720x504 with 1 Axes>"
      ]
     },
     "metadata": {
      "needs_background": "light"
     },
     "output_type": "display_data"
    }
   ],
   "source": [
    "# plt.plot(loss_LSTM1[1:], label='LSTM-1')\n",
    "fig = plt.figure(figsize=(10,7))\n",
    "xpos = np.arange(0,150)\n",
    "plt.plot(xpos, loss_TCNN[:], label='TCNN')\n",
    "plt.plot(xpos, loss_LSTM3[:], label='LSTM')\n",
    "plt.plot(xpos, loss_ANN[:], label='ANN')\n",
    "plt.legend()\n",
    "# plt.yscale('log')\n",
    "plt.savefig('loss-a.eps', bbox_inches='tight', pad_inches=0)\n",
    "plt.show()"
   ]
  },
  {
   "cell_type": "code",
   "execution_count": null,
   "metadata": {},
   "outputs": [],
   "source": []
  }
 ],
 "metadata": {
  "kernelspec": {
   "display_name": "Python 3",
   "language": "python",
   "name": "python3"
  },
  "language_info": {
   "codemirror_mode": {
    "name": "ipython",
    "version": 3
   },
   "file_extension": ".py",
   "mimetype": "text/x-python",
   "name": "python",
   "nbconvert_exporter": "python",
   "pygments_lexer": "ipython3",
   "version": "3.7.3"
  },
  "toc": {
   "base_numbering": 1,
   "nav_menu": {},
   "number_sections": true,
   "sideBar": true,
   "skip_h1_title": false,
   "title_cell": "Table of Contents",
   "title_sidebar": "Contents",
   "toc_cell": false,
   "toc_position": {},
   "toc_section_display": true,
   "toc_window_display": true
  }
 },
 "nbformat": 4,
 "nbformat_minor": 2
}
